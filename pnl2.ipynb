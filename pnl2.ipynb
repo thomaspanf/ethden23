{
 "cells": [
  {
   "cell_type": "markdown",
   "id": "51827a97-5927-4d08-9c10-247f5cc67bc5",
   "metadata": {},
   "source": [
    "This PnL calculation is mathematically the same as the previous one, except we only look at DEX swaps.\n",
    "\n",
    "some relevant transactions may be missed but balance changes that are not trading related won't count for/against trading performance"
   ]
  },
  {
   "cell_type": "markdown",
   "id": "2445df85-975e-4396-a6af-f8e036a4f60c",
   "metadata": {},
   "source": [
    "using `0x8f3bf7bca1b77720e8070639fc9a7ddfb6f4fda9` as an example"
   ]
  },
  {
   "cell_type": "code",
   "execution_count": null,
   "id": "8a73762c-e3ac-4a22-9f2e-0c4874d10b88",
   "metadata": {},
   "outputs": [],
   "source": []
  }
 ],
 "metadata": {
  "kernelspec": {
   "display_name": "Python 3",
   "language": "python",
   "name": "python3"
  },
  "language_info": {
   "codemirror_mode": {
    "name": "ipython",
    "version": 3
   },
   "file_extension": ".py",
   "mimetype": "text/x-python",
   "name": "python",
   "nbconvert_exporter": "python",
   "pygments_lexer": "ipython3",
   "version": "3.8.8"
  }
 },
 "nbformat": 4,
 "nbformat_minor": 5
}

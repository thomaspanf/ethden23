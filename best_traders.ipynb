{
 "cells": [
  {
   "cell_type": "markdown",
   "id": "bb02690c-92a5-44e6-a174-c9c30bf9e049",
   "metadata": {},
   "source": [
    "# Title"
   ]
  },
  {
   "cell_type": "markdown",
   "id": "c38d4a48-3e18-4ef8-b396-462fc300d883",
   "metadata": {},
   "source": [
    "## Setup"
   ]
  },
  {
   "cell_type": "code",
   "execution_count": 1,
   "id": "40051b3e-d760-457d-81d4-a2b56dde0edb",
   "metadata": {},
   "outputs": [],
   "source": [
    "import requests\n",
    "import json\n",
    "import os\n",
    "from dotenv import load_dotenv"
   ]
  },
  {
   "cell_type": "code",
   "execution_count": 2,
   "id": "eb1d790c-443a-4728-9aac-74cfd0b0d6f3",
   "metadata": {},
   "outputs": [],
   "source": [
    "load_dotenv('.env')\n",
    "ckey = os.getenv('ckey')\n",
    "auth = (ckey, '')"
   ]
  },
  {
   "cell_type": "code",
   "execution_count": 3,
   "id": "cfa99bce-4f6c-4381-bbf9-7d8ceb3562ab",
   "metadata": {},
   "outputs": [
    {
     "name": "stdin",
     "output_type": "stream",
     "text": [
      "Give Ticker 1:  UNI\n",
      "Give Ticker 2:  ETH\n",
      "Give DEX Name:  sushiswap\n"
     ]
    },
    {
     "name": "stdout",
     "output_type": "stream",
     "text": [
      "Looking at UNI-ETH pool on sushiswap\n"
     ]
    }
   ],
   "source": [
    "chainName = 'eth-mainnet'\n",
    "ticker1 = input('Give Ticker 1: ') # e.g. UNI (I think ideally put less common one first so you request less data?)\n",
    "ticker2 = input('Give Ticker 2: ') # e.g. ETH\n",
    "dexName = input('Give DEX Name: ') # e.g. sushiswap, uniswap_v2\n",
    "addressByToken = {'UNI': '0x1f9840a85d5af5bf1d1762f925bdaddc4201f984',\n",
    "                  'WETH': '0xc02aaa39b223fe8d0a0e5c4f27ead9083c756cc2',\n",
    "                  'ETH': '0xc02aaa39b223fe8d0a0e5c4f27ead9083c756cc2'\n",
    "                 }\n",
    "try:\n",
    "    tokenAddress1 = addressByToken[ticker1]\n",
    "    tokenAddress2 = addressByToken[ticker2]\n",
    "    print(f'Looking at {ticker1}-{ticker2} pool on {dexName}')\n",
    "except KeyError:\n",
    "    print('unknown token')\n",
    "    tokenAddress1 = input('Give Token Address 1: ')\n",
    "    tokenAddress2 = input('Give Token Address 2: ')"
   ]
  },
  {
   "cell_type": "markdown",
   "id": "4d4f875e-89c9-4b27-a690-f0182959987f",
   "metadata": {},
   "source": [
    "## Get XY=K transactions for token address"
   ]
  },
  {
   "cell_type": "code",
   "execution_count": 4,
   "id": "cc6f73e6-14f5-4c69-9326-b575fe499c04",
   "metadata": {},
   "outputs": [
    {
     "name": "stdout",
     "output_type": "stream",
     "text": [
      "https://api.covalenthq.com/v1/eth-mainnet/xy=k/sushiswap/tokens/address/0x1f9840a85d5af5bf1d1762f925bdaddc4201f984/transactions/\n",
      "{\"data\":{\"updated_at\":\"2023-03-05T07:20:32.240006864Z\",\"chain_id\":1,\"chain_name\":\"eth-mainnet\",\"items\":[{\"block_signed_at\":\"2023-03-03T08:04:23Z\",\"tx_hash\":\"0x97d50c20e721632d0b6875fc12f04eae7d3f8e83eeaf0303d9ce7cfadfd77612\",\"act\":\"REMOVE_LIQUIDITY\",\"address\":\"0xdafd66636e2561b0284edde37e42d192f2844d40\",\"amount_0\":\"100000000000000000\",\"amount_1\":\"396941447359274\",\"amount_0_in\":null,\"amount_1_in\":null,\"amount_0_out\":null,\"amount_1_out\":null,\"to_address\":null,\"from_address\":\"0xec08e38a93288b248f988b5e1152c12f65e7b5c8\",\"sender_address\":\"0xd9e1ce17f2641f24ae83637ab66a2cca9c378b9f\",\"total_quote\":1.3058075,\"quote_currency\":\"USD\",\"token_0\":{\"contract_decimals\":18,\"contract_name\":\"Uniswap\",\"contract_ticker_symbol\":\"UNI\",\"contract_address\":\"0x1f9840a85d5af5bf1d1762f925bdaddc4201f984\",\"supports_erc\":null,\"logo_url\":\"https://logos.covalenthq.com/tokens/0x1f9840a85d5af5bf1d1762f925bdaddc4201f984.png\"},\"token_1\":{\"contract_decimals\":18,\"contract_name\":\"Wrapped Ether\",\"contract_ticker_symbol\":\"WETH\",\"contract_address\":\"0xc02aaa39b223fe8d0a0e5c4f27ead9083c756cc2\",\"supports_erc\":null,\"logo_url\":\"https://logos.covalenthq.com/tokens/0xc02aaa39b223fe8d0a0e5c4f27ead9083c756cc2.png\"},\"token_0_quote_rate\":6.539209,\"token_1_quote_rate\":1642.2739},{\"block_signed_at\":\"2023-03-03T10:23:59Z\",\"tx_hash\":\"0x653607eb7a27ba76b4d2db3fcfc19e208ac26eeb0705e3a36f8569406acb75ec\",\"act\":\"SWAP\",\"address\":\"0xdafd66636e2561b0284edde37e42d192f2844d40\",\"amount_0\":null,\"amount_1\":null,\"amount_0_in\":\"0\",\"amount_1_in\":\"97221243857162772\",\"amount_0_out\":\"24387166396487358212\",\"amount_1_out\":\"0\",\"to_address\":\"0x48a61d9870823a392be32bfe207e0803a3c3fffc\",\"from_address\":null,\"sender_address\":\"0x1111111254fb6c44bac0bed2854e76f90643097d\",\"total_quote\":159.66391,\"quote_currency\":\"USD\",\"token_0\":{\"contract_decimals\":18,\"contract_name\":\"Uniswap\",\"contract_ticker_symbol\":\"UNI\",\"contract_address\":\"0x1f9840a85d5af5bf1d1762f925bdaddc4201f984\",\"supports_erc\":null,\"logo_url\":\"https://logos.covalenthq.com/tokens/0x1f9840a85d5af5bf1d1762f925bdaddc4201f984.png\"},\"token_1\":{\"contract_decimals\":18,\"contract_name\":\"Wrapped Ether\",\"contract_ticker_symbol\":\"WETH\",\"contract_address\":\"0xc02aaa39b223fe8d0a0e5c4f27ead9083c756cc2\",\"supports_erc\":null,\"logo_url\":\"https://logos.covalenthq.com/tokens/0xc02aaa39b223fe8d0a0e5c4f27ead9083c756cc2.png\"},\"token_0_quote_rate\":6.539209,\"token_1_quote_rate\":1642.2739},{\"block_signed_at\":\"2023-03-03T15:50:35Z\",\"tx_hash\":\"0x4df85cfa34f6cb6a825ccfda330445a74e3f995f0427b6fd784785443319c5a8\",\"act\":\"SWAP\",\"address\":\"0xdafd66636e2561b0284edde37e42d192f2844d40\",\"amount_0\":null,\"amount_1\":null,\"amount_0_in\":\"81802880633303706971\",\"amount_1_in\":\"0\",\"amount_0_out\":\"0\",\"amount_1_out\":\"323169634552560414\",\"to_address\":\"0xe364992388319410c62eb4595d848c8ceb41172b\",\"from_address\":null,\"sender_address\":\"0xdef1c0ded9bec7f1a1670819833240f027b25eff\",\"total_quote\":534.92615,\"quote_currency\":\"USD\",\"token_0\":{\"contract_decimals\":18,\"contract_name\":\"Uniswap\",\"contract_ticker_symbol\":\"UNI\",\"contract_address\":\"0x1f9840a85d5af5bf1d1762f925bdaddc4201f984\",\"supports_erc\":null,\"logo_url\":\"https://logos.covalenthq.com/tokens/0x1f9840a85d5af5bf1d1762f925bdaddc4201f984.png\"},\"token_1\":{\"contract_decimals\":18,\"contract_name\":\"Wrapped Ether\",\"contract_ticker_symbol\":\"WETH\",\"contract_address\":\"0xc02aaa39b223fe8d0a0e5c4f27ead9083c756cc2\",\"supports_erc\":null,\"logo_url\":\"https://logos.covalenthq.com/tokens/0xc02aaa39b223fe8d0a0e5c4f27ead9083c756cc2.png\"},\"token_0_quote_rate\":6.539209,\"token_1_quote_rate\":1642.2739},{\"block_signed_at\":\"2023-03-03T21:38:35Z\",\"tx_hash\":\"0x8b16d076cc682b19a031c6ba147969ac17be957092a3d74fbc3e5b687d3ff8bd\",\"act\":\"SWAP\",\"address\":\"0xdafd66636e2561b0284edde37e42d192f2844d40\",\"amount_0\":null,\"amount_1\":null,\"amount_0_in\":\"0\",\"amount_1_in\":\"38764474955849775\",\"amount_0_out\":\"9791268208381346726\",\"amount_1_out\":\"0\",\"to_address\":\"0x3de8eb830000f1d914294d000051000031a81d00\",\"from_address\":null,\"sender_address\":\"0x3de8eb830000f1d914294d000051000031a81d00\",\"total_quote\":63.66189,\"quote_currency\":\"USD\",\"token_0\":{\"contract_decimals\":18,\"contract_name\":\"Uniswap\",\"contract_ticker_symbol\":\"UNI\",\"contract_address\":\"0x1f9840a85d5af5bf1d1762f925bdaddc4201f984\",\"supports_erc\":null,\"logo_url\":\"https://logos.covalenthq.com/tokens/0x1f9840a85d5af5bf1d1762f925bdaddc4201f984.png\"},\"token_1\":{\"contract_decimals\":18,\"contract_name\":\"Wrapped Ether\",\"contract_ticker_symbol\":\"WETH\",\"contract_address\":\"0xc02aaa39b223fe8d0a0e5c4f27ead9083c756cc2\",\"supports_erc\":null,\"logo_url\":\"https://logos.covalenthq.com/tokens/0xc02aaa39b223fe8d0a0e5c4f27ead9083c756cc2.png\"},\"token_0_quote_rate\":6.539209,\"token_1_quote_rate\":1642.2739},{\"block_signed_at\":\"2023-03-04T00:53:23Z\",\"tx_hash\":\"0x101ea53b01b054b258efa19a214ea548e2c777cd2636693f189e2fbef7e621b9\",\"act\":\"SWAP\",\"address\":\"0xdafd66636e2561b0284edde37e42d192f2844d40\",\"amount_0\":null,\"amount_1\":null,\"amount_0_in\":\"0\",\"amount_1_in\":\"382369457636404694\",\"amount_0_out\":\"96033466553070266761\",\"amount_1_out\":\"0\",\"to_address\":\"0xe8bf7d7358a96fa870d3945bb37bfcc91a9041cc\",\"from_address\":null,\"sender_address\":\"0x4870525eae23fceb31df613d179ef6275e1b93a9\",\"total_quote\":600.2166,\"quote_currency\":\"USD\",\"token_0\":{\"contract_decimals\":18,\"contract_name\":\"Uniswap\",\"contract_ticker_symbol\":\"UNI\",\"contract_address\":\"0x1f9840a85d5af5bf1d1762f925bdaddc4201f984\",\"supports_erc\":null,\"logo_url\":\"https://logos.covalenthq.com/tokens/0x1f9840a85d5af5bf1d1762f925bdaddc4201f984.png\"},\"token_1\":{\"contract_decimals\":18,\"contract_name\":\"Wrapped Ether\",\"contract_ticker_symbol\":\"WETH\",\"contract_address\":\"0xc02aaa39b223fe8d0a0e5c4f27ead9083c756cc2\",\"supports_erc\":null,\"logo_url\":\"https://logos.covalenthq.com/tokens/0xc02aaa39b223fe8d0a0e5c4f27ead9083c756cc2.png\"},\"token_0_quote_rate\":6.2092757,\"token_1_quote_rate\":1569.7295},{\"block_signed_at\":\"2023-03-04T02:04:47Z\",\"tx_hash\":\"0x0993659b72fc6db25f508b2d545c9c79ebbc869059cf606fad8b252ec2e01982\",\"act\":\"SWAP\",\"address\":\"0xdafd66636e2561b0284edde37e42d192f2844d40\",\"amount_0\":null,\"amount_1\":null,\"amount_0_in\":\"9036491026133821557\",\"amount_1_in\":\"0\",\"amount_0_out\":\"0\",\"amount_1_out\":\"35932251551204829\",\"to_address\":\"0xd1742b3c4fbb096990c8950fa635aec75b30781a\",\"from_address\":null,\"sender_address\":\"0xd1742b3c4fbb096990c8950fa635aec75b30781a\",\"total_quote\":56.110065,\"quote_currency\":\"USD\",\"token_0\":{\"contract_decimals\":18,\"contract_name\":\"Uniswap\",\"contract_ticker_symbol\":\"UNI\",\"contract_address\":\"0x1f9840a85d5af5bf1d1762f925bdaddc4201f984\",\"supports_erc\":null,\"logo_url\":\"https://logos.covalenthq.com/tokens/0x1f9840a85d5af5bf1d1762f925bdaddc4201f984.png\"},\"token_1\":{\"contract_decimals\":18,\"contract_name\":\"Wrapped Ether\",\"contract_ticker_symbol\":\"WETH\",\"contract_address\":\"0xc02aaa39b223fe8d0a0e5c4f27ead9083c756cc2\",\"supports_erc\":null,\"logo_url\":\"https://logos.covalenthq.com/tokens/0xc02aaa39b223fe8d0a0e5c4f27ead9083c756cc2.png\"},\"token_0_quote_rate\":6.2092757,\"token_1_quote_rate\":1569.7295},{\"block_signed_at\":\"2023-03-04T04:14:59Z\",\"tx_hash\":\"0x9a029a0beeb0dc659ad76c5d3651720357479f3a8de014dcedf89d11d310d103\",\"act\":\"SWAP\",\"address\":\"0xdafd66636e2561b0284edde37e42d192f2844d40\",\"amount_0\":null,\"amount_1\":null,\"amount_0_in\":\"1000000000000000000\",\"amount_1_in\":\"0\",\"amount_0_out\":\"0\",\"amount_1_out\":\"3974205365437590\",\"to_address\":\"0xfb55af0ef0dcdec92bd3752e7a9237dfefb8acc0\",\"from_address\":null,\"sender_address\":\"0x1111111254eeb25477b68fb85ed929f73a960582\",\"total_quote\":6.2092757,\"quote_currency\":\"USD\",\"token_0\":{\"contract_decimals\":18,\"contract_name\":\"Uniswap\",\"contract_ticker_symbol\":\"UNI\",\"contract_address\":\"0x1f9840a85d5af5bf1d1762f925bdaddc4201f984\",\"supports_erc\":null,\"logo_url\":\"https://logos.covalenthq.com/tokens/0x1f9840a85d5af5bf1d1762f925bdaddc4201f984.png\"},\"token_1\":{\"contract_decimals\":18,\"contract_name\":\"Wrapped Ether\",\"contract_ticker_symbol\":\"WETH\",\"contract_address\":\"0xc02aaa39b223fe8d0a0e5c4f27ead9083c756cc2\",\"supports_erc\":null,\"logo_url\":\"https://logos.covalenthq.com/tokens/0xc02aaa39b223fe8d0a0e5c4f27ead9083c756cc2.png\"},\"token_0_quote_rate\":6.2092757,\"token_1_quote_rate\":1569.7295},{\"block_signed_at\":\"2023-03-04T05:43:35Z\",\"tx_hash\":\"0x0b9e9de917425710aef5c8befa816c5815816f7762e4b4ec5924cdf93b30aae1\",\"act\":\"SWAP\",\"address\":\"0xdafd66636e2561b0284edde37e42d192f2844d40\",\"amount_0\":null,\"amount_1\":null,\"amount_0_in\":\"3965000000000000000\",\"amount_1_in\":\"0\",\"amount_0_out\":\"0\",\"amount_1_out\":\"15753529528598770\",\"to_address\":\"0xc1f4ecd6398ffc97d81cb3015aa6ef7b19773a08\",\"from_address\":null,\"sender_address\":\"0x1111111254eeb25477b68fb85ed929f73a960582\",\"total_quote\":24.619778,\"quote_currency\":\"USD\",\"token_0\":{\"contract_decimals\":18,\"contract_name\":\"Uniswap\",\"contract_ticker_symbol\":\"UNI\",\"contract_address\":\"0x1f9840a85d5af5bf1d1762f925bdaddc4201f984\",\"supports_erc\":null,\"logo_url\":\"https://logos.covalenthq.com/tokens/0x1f9840a85d5af5bf1d1762f925bdaddc4201f984.png\"},\"token_1\":{\"contract_decimals\":18,\"contract_name\":\"Wrapped Ether\",\"contract_ticker_symbol\":\"WETH\",\"contract_address\":\"0xc02aaa39b223fe8d0a0e5c4f27ead9083c756cc2\",\"supports_erc\":null,\"logo_url\":\"https://logos.covalenthq.com/tokens/0xc02aaa39b223fe8d0a0e5c4f27ead9083c756cc2.png\"},\"token_0_quote_rate\":6.2092757,\"token_1_quote_rate\":1569.7295},{\"block_signed_at\":\"2023-03-04T06:05:47Z\",\"tx_hash\":\"0xacc4b2475551998d254eed112f33895698610934e13cecf241ed34d8221d4bd1\",\"act\":\"SWAP\",\"address\":\"0xdafd66636e2561b0284edde37e42d192f2844d40\",\"amount_0\":null,\"amount_1\":null,\"amount_0_in\":\"39650000000000000000\",\"amount_1_in\":\"0\",\"amount_0_out\":\"0\",\"amount_1_out\":\"157167809733122211\",\"to_address\":\"0xc1f4ecd6398ffc97d81cb3015aa6ef7b19773a08\",\"from_address\":null,\"sender_address\":\"0x1111111254eeb25477b68fb85ed929f73a960582\",\"total_quote\":246.19778,\"quote_currency\":\"USD\",\"token_0\":{\"contract_decimals\":18,\"contract_name\":\"Uniswap\",\"contract_ticker_symbol\":\"UNI\",\"contract_address\":\"0x1f9840a85d5af5bf1d1762f925bdaddc4201f984\",\"supports_erc\":null,\"logo_url\":\"https://logos.covalenthq.com/tokens/0x1f9840a85d5af5bf1d1762f925bdaddc4201f984.png\"},\"token_1\":{\"contract_decimals\":18,\"contract_name\":\"Wrapped Ether\",\"contract_ticker_symbol\":\"WETH\",\"contract_address\":\"0xc02aaa39b223fe8d0a0e5c4f27ead9083c756cc2\",\"supports_erc\":null,\"logo_url\":\"https://logos.covalenthq.com/tokens/0xc02aaa39b223fe8d0a0e5c4f27ead9083c756cc2.png\"},\"token_0_quote_rate\":6.2092757,\"token_1_quote_rate\":1569.7295},{\"block_signed_at\":\"2023-03-04T07:14:59Z\",\"tx_hash\":\"0x5cdb5b6f41b5030107e5a735b606fb7423b2d008088597866c3a058852964184\",\"act\":\"SWAP\",\"address\":\"0xdafd66636e2561b0284edde37e42d192f2844d40\",\"amount_0\":null,\"amount_1\":null,\"amount_0_in\":\"5000000000000000000\",\"amount_1_in\":\"0\",\"amount_0_out\":\"0\",\"amount_1_out\":\"19771965216195098\",\"to_address\":\"0x397ff1542f962076d0bfe58ea045ffa2d347aca0\",\"from_address\":null,\"sender_address\":\"0xd9e1ce17f2641f24ae83637ab66a2cca9c378b9f\",\"total_quote\":31.04638,\"quote_currency\":\"USD\",\"token_0\":{\"contract_decimals\":18,\"contract_name\":\"Uniswap\",\"contract_ticker_symbol\":\"UNI\",\"contract_address\":\"0x1f9840a85d5af5bf1d1762f925bdaddc4201f984\",\"supports_erc\":null,\"logo_url\":\"https://logos.covalenthq.com/tokens/0x1f9840a85d5af5bf1d1762f925bdaddc4201f984.png\"},\"token_1\":{\"contract_decimals\":18,\"contract_name\":\"Wrapped Ether\",\"contract_ticker_symbol\":\"WETH\",\"contract_address\":\"0xc02aaa39b223fe8d0a0e5c4f27ead9083c756cc2\",\"supports_erc\":null,\"logo_url\":\"https://logos.covalenthq.com/tokens/0xc02aaa39b223fe8d0a0e5c4f27ead9083c756cc2.png\"},\"token_0_quote_rate\":6.2092757,\"token_1_quote_rate\":1569.7295},{\"block_signed_at\":\"2023-03-04T08:10:59Z\",\"tx_hash\":\"0xb5a0ac10473521cb283b022e4495e373c5e4af0209a0f0295875775af4060b32\",\"act\":\"SWAP\",\"address\":\"0xdafd66636e2561b0284edde37e42d192f2844d40\",\"amount_0\":null,\"amount_1\":null,\"amount_0_in\":\"12780377602065515970\",\"amount_1_in\":\"0\",\"amount_0_out\":\"0\",\"amount_1_out\":\"50490593983371215\",\"to_address\":\"0xdef1c0ded9bec7f1a1670819833240f027b25eff\",\"from_address\":null,\"sender_address\":\"0xdef1c0ded9bec7f1a1670819833240f027b25eff\",\"total_quote\":79.35689,\"quote_currency\":\"USD\",\"token_0\":{\"contract_decimals\":18,\"contract_name\":\"Uniswap\",\"contract_ticker_symbol\":\"UNI\",\"contract_address\":\"0x1f9840a85d5af5bf1d1762f925bdaddc4201f984\",\"supports_erc\":null,\"logo_url\":\"https://logos.covalenthq.com/tokens/0x1f9840a85d5af5bf1d1762f925bdaddc4201f984.png\"},\"token_1\":{\"contract_decimals\":18,\"contract_name\":\"Wrapped Ether\",\"contract_ticker_symbol\":\"WETH\",\"contract_address\":\"0xc02aaa39b223fe8d0a0e5c4f27ead9083c756cc2\",\"supports_erc\":null,\"logo_url\":\"https://logos.covalenthq.com/tokens/0xc02aaa39b223fe8d0a0e5c4f27ead9083c756cc2.png\"},\"token_0_quote_rate\":6.2092757,\"token_1_quote_rate\":1569.7295},{\"block_signed_at\":\"2023-03-04T11:28:35Z\",\"tx_hash\":\"0xf98f86db519a2941177a3600329117624ebee09b986a2df7a8f6557d7ecc8399\",\"act\":\"SWAP\",\"address\":\"0xdafd66636e2561b0284edde37e42d192f2844d40\",\"amount_0\":null,\"amount_1\":null,\"amount_0_in\":\"1805153351075079151\",\"amount_1_in\":\"0\",\"amount_0_out\":\"0\",\"amount_1_out\":\"7125929639412688\",\"to_address\":\"0xdef1c0ded9bec7f1a1670819833240f027b25eff\",\"from_address\":null,\"sender_address\":\"0xdef1c0ded9bec7f1a1670819833240f027b25eff\",\"total_quote\":11.208694,\"quote_currency\":\"USD\",\"token_0\":{\"contract_decimals\":18,\"contract_name\":\"Uniswap\",\"contract_ticker_symbol\":\"UNI\",\"contract_address\":\"0x1f9840a85d5af5bf1d1762f925bdaddc4201f984\",\"supports_erc\":null,\"logo_url\":\"https://logos.covalenthq.com/tokens/0x1f9840a85d5af5bf1d1762f925bdaddc4201f984.png\"},\"token_1\":{\"contract_decimals\":18,\"contract_name\":\"Wrapped Ether\",\"contract_ticker_symbol\":\"WETH\",\"contract_address\":\"0xc02aaa39b223fe8d0a0e5c4f27ead9083c756cc2\",\"supports_erc\":null,\"logo_url\":\"https://logos.covalenthq.com/tokens/0xc02aaa39b223fe8d0a0e5c4f27ead9083c756cc2.png\"},\"token_0_quote_rate\":6.2092757,\"token_1_quote_rate\":1569.7295},{\"block_signed_at\":\"2023-03-04T16:01:11Z\",\"tx_hash\":\"0x8b0972225bc46b00dbc5883e4cb2c37f5e87eb239a472c809fecf5753ff581f8\",\"act\":\"SWAP\",\"address\":\"0xdafd66636e2561b0284edde37e42d192f2844d40\",\"amount_0\":null,\"amount_1\":null,\"amount_0_in\":\"53320051941921838348\",\"amount_1_in\":\"0\",\"amount_0_out\":\"0\",\"amount_1_out\":\"209865416629410904\",\"to_address\":\"0x55d5c232d921b9eaa6b37b5845e439acd04b4dba\",\"from_address\":null,\"sender_address\":\"0x1111111254eeb25477b68fb85ed929f73a960582\",\"total_quote\":331.07892,\"quote_currency\":\"USD\",\"token_0\":{\"contract_decimals\":18,\"contract_name\":\"Uniswap\",\"contract_ticker_symbol\":\"UNI\",\"contract_address\":\"0x1f9840a85d5af5bf1d1762f925bdaddc4201f984\",\"supports_erc\":null,\"logo_url\":\"https://logos.covalenthq.com/tokens/0x1f9840a85d5af5bf1d1762f925bdaddc4201f984.png\"},\"token_1\":{\"contract_decimals\":18,\"contract_name\":\"Wrapped Ether\",\"contract_ticker_symbol\":\"WETH\",\"contract_address\":\"0xc02aaa39b223fe8d0a0e5c4f27ead9083c756cc2\",\"supports_erc\":null,\"logo_url\":\"https://logos.covalenthq.com/tokens/0xc02aaa39b223fe8d0a0e5c4f27ead9083c756cc2.png\"},\"token_0_quote_rate\":6.2092757,\"token_1_quote_rate\":1569.7295},{\"block_signed_at\":\"2023-03-04T16:33:47Z\",\"tx_hash\":\"0xb3719a489519eed4d9398aa98e9ab813daf5f3c7aa173313968196403883d9c8\",\"act\":\"SWAP\",\"address\":\"0xdafd66636e2561b0284edde37e42d192f2844d40\",\"amount_0\":null,\"amount_1\":null,\"amount_0_in\":\"0\",\"amount_1_in\":\"50616315152116564\",\"amount_0_out\":\"12810675596080000927\",\"amount_1_out\":\"0\",\"to_address\":\"0xe66b31678d6c16e9ebf358268a790b763c133750\",\"from_address\":null,\"sender_address\":\"0xdef1c0ded9bec7f1a1670819833240f027b25eff\",\"total_quote\":79.453926,\"quote_currency\":\"USD\",\"token_0\":{\"contract_decimals\":18,\"contract_name\":\"Uniswap\",\"contract_ticker_symbol\":\"UNI\",\"contract_address\":\"0x1f9840a85d5af5bf1d1762f925bdaddc4201f984\",\"supports_erc\":null,\"logo_url\":\"https://logos.covalenthq.com/tokens/0x1f9840a85d5af5bf1d1762f925bdaddc4201f984.png\"},\"token_1\":{\"contract_decimals\":18,\"contract_name\":\"Wrapped Ether\",\"contract_ticker_symbol\":\"WETH\",\"contract_address\":\"0xc02aaa39b223fe8d0a0e5c4f27ead9083c756cc2\",\"supports_erc\":null,\"logo_url\":\"https://logos.covalenthq.com/tokens/0xc02aaa39b223fe8d0a0e5c4f27ead9083c756cc2.png\"},\"token_0_quote_rate\":6.2092757,\"token_1_quote_rate\":1569.7295},{\"block_signed_at\":\"2023-03-04T16:46:23Z\",\"tx_hash\":\"0x7fda8b6eca6dd96c26cad69611ada654ba0656e6320d01bee07b377d591ecf5a\",\"act\":\"SWAP\",\"address\":\"0xdafd66636e2561b0284edde37e42d192f2844d40\",\"amount_0\":null,\"amount_1\":null,\"amount_0_in\":\"0\",\"amount_1_in\":\"81792511146893869\",\"amount_0_out\":\"20664115708007722072\",\"amount_1_out\":\"0\",\"to_address\":\"0x74de5d4fcbf63e00296fd95d33236b9794016631\",\"from_address\":null,\"sender_address\":\"0x1111111254eeb25477b68fb85ed929f73a960582\",\"total_quote\":128.39212,\"quote_currency\":\"USD\",\"token_0\":{\"contract_decimals\":18,\"contract_name\":\"Uniswap\",\"contract_ticker_symbol\":\"UNI\",\"contract_address\":\"0x1f9840a85d5af5bf1d1762f925bdaddc4201f984\",\"supports_erc\":null,\"logo_url\":\"https://logos.covalenthq.com/tokens/0x1f9840a85d5af5bf1d1762f925bdaddc4201f984.png\"},\"token_1\":{\"contract_decimals\":18,\"contract_name\":\"Wrapped Ether\",\"contract_ticker_symbol\":\"WETH\",\"contract_address\":\"0xc02aaa39b223fe8d0a0e5c4f27ead9083c756cc2\",\"supports_erc\":null,\"logo_url\":\"https://logos.covalenthq.com/tokens/0xc02aaa39b223fe8d0a0e5c4f27ead9083c756cc2.png\"},\"token_0_quote_rate\":6.2092757,\"token_1_quote_rate\":1569.7295},{\"block_signed_at\":\"2023-03-04T20:19:47Z\",\"tx_hash\":\"0xb060469e6c7cb1f0007e5bb87ecf5190f1107f466dd315b74c621b34cac7e72a\",\"act\":\"SWAP\",\"address\":\"0xdafd66636e2561b0284edde37e42d192f2844d40\",\"amount_0\":null,\"amount_1\":null,\"amount_0_in\":\"15000000000000000000\",\"amount_1_in\":\"0\",\"amount_0_out\":\"0\",\"amount_1_out\":\"59035371701922487\",\"to_address\":\"0xd1742b3c4fbb096990c8950fa635aec75b30781a\",\"from_address\":null,\"sender_address\":\"0xd1742b3c4fbb096990c8950fa635aec75b30781a\",\"total_quote\":93.13914,\"quote_currency\":\"USD\",\"token_0\":{\"contract_decimals\":18,\"contract_name\":\"Uniswap\",\"contract_ticker_symbol\":\"UNI\",\"contract_address\":\"0x1f9840a85d5af5bf1d1762f925bdaddc4201f984\",\"supports_erc\":null,\"logo_url\":\"https://logos.covalenthq.com/tokens/0x1f9840a85d5af5bf1d1762f925bdaddc4201f984.png\"},\"token_1\":{\"contract_decimals\":18,\"contract_name\":\"Wrapped Ether\",\"contract_ticker_symbol\":\"WETH\",\"contract_address\":\"0xc02aaa39b223fe8d0a0e5c4f27ead9083c756cc2\",\"supports_erc\":null,\"logo_url\":\"https://logos.covalenthq.com/tokens/0xc02aaa39b223fe8d0a0e5c4f27ead9083c756cc2.png\"},\"token_0_quote_rate\":6.2092757,\"token_1_quote_rate\":1569.7295},{\"block_signed_at\":\"2023-03-04T22:05:23Z\",\"tx_hash\":\"0x5d84e197ca3e7e5e62cd31ed1bb5d312d62bfcc89f30ea045fe94b77067fec88\",\"act\":\"SWAP\",\"address\":\"0xdafd66636e2561b0284edde37e42d192f2844d40\",\"amount_0\":null,\"amount_1\":null,\"amount_0_in\":\"7670271113881341655\",\"amount_1_in\":\"0\",\"amount_0_out\":\"0\",\"amount_1_out\":\"30151276612880650\",\"to_address\":\"0xd9e1ce17f2641f24ae83637ab66a2cca9c378b9f\",\"from_address\":null,\"sender_address\":\"0xd9e1ce17f2641f24ae83637ab66a2cca9c378b9f\",\"total_quote\":47.626827,\"quote_currency\":\"USD\",\"token_0\":{\"contract_decimals\":18,\"contract_name\":\"Uniswap\",\"contract_ticker_symbol\":\"UNI\",\"contract_address\":\"0x1f9840a85d5af5bf1d1762f925bdaddc4201f984\",\"supports_erc\":null,\"logo_url\":\"https://logos.covalenthq.com/tokens/0x1f9840a85d5af5bf1d1762f925bdaddc4201f984.png\"},\"token_1\":{\"contract_decimals\":18,\"contract_name\":\"Wrapped Ether\",\"contract_ticker_symbol\":\"WETH\",\"contract_address\":\"0xc02aaa39b223fe8d0a0e5c4f27ead9083c756cc2\",\"supports_erc\":null,\"logo_url\":\"https://logos.covalenthq.com/tokens/0xc02aaa39b223fe8d0a0e5c4f27ead9083c756cc2.png\"},\"token_0_quote_rate\":6.2092757,\"token_1_quote_rate\":1569.7295},{\"block_signed_at\":\"2023-03-04T23:31:35Z\",\"tx_hash\":\"0xe84f252e33e6a4b8b1d731054830d043c879b02c42aeee6648f3304880c76476\",\"act\":\"SWAP\",\"address\":\"0xdafd66636e2561b0284edde37e42d192f2844d40\",\"amount_0\":null,\"amount_1\":null,\"amount_0_in\":\"35383852939713019257\",\"amount_1_in\":\"0\",\"amount_0_out\":\"0\",\"amount_1_out\":\"138772640423445032\",\"to_address\":\"0xe8c060f8052e07423f71d445277c61ac5138a2e5\",\"from_address\":null,\"sender_address\":\"0xe8c060f8052e07423f71d445277c61ac5138a2e5\",\"total_quote\":219.7081,\"quote_currency\":\"USD\",\"token_0\":{\"contract_decimals\":18,\"contract_name\":\"Uniswap\",\"contract_ticker_symbol\":\"UNI\",\"contract_address\":\"0x1f9840a85d5af5bf1d1762f925bdaddc4201f984\",\"supports_erc\":null,\"logo_url\":\"https://logos.covalenthq.com/tokens/0x1f9840a85d5af5bf1d1762f925bdaddc4201f984.png\"},\"token_1\":{\"contract_decimals\":18,\"contract_name\":\"Wrapped Ether\",\"contract_ticker_symbol\":\"WETH\",\"contract_address\":\"0xc02aaa39b223fe8d0a0e5c4f27ead9083c756cc2\",\"supports_erc\":null,\"logo_url\":\"https://logos.covalenthq.com/tokens/0xc02aaa39b223fe8d0a0e5c4f27ead9083c756cc2.png\"},\"token_0_quote_rate\":6.2092757,\"token_1_quote_rate\":1569.7295},{\"block_signed_at\":\"2023-03-04T23:34:35Z\",\"tx_hash\":\"0x90c81a3f737629aaa80686e56df3ab239e0a62b1da6e3171a8abaf51b5737b1d\",\"act\":\"SWAP\",\"address\":\"0xdafd66636e2561b0284edde37e42d192f2844d40\",\"amount_0\":null,\"amount_1\":null,\"amount_0_in\":\"0\",\"amount_1_in\":\"100000000000000\",\"amount_0_out\":\"25392860287402253\",\"amount_1_out\":\"0\",\"to_address\":\"0x727da77e0b3a0bdbf30856df052552e6787f4aaa\",\"from_address\":null,\"sender_address\":\"0xd9e1ce17f2641f24ae83637ab66a2cca9c378b9f\",\"total_quote\":0.15697294,\"quote_currency\":\"USD\",\"token_0\":{\"contract_decimals\":18,\"contract_name\":\"Uniswap\",\"contract_ticker_symbol\":\"UNI\",\"contract_address\":\"0x1f9840a85d5af5bf1d1762f925bdaddc4201f984\",\"supports_erc\":null,\"logo_url\":\"https://logos.covalenthq.com/tokens/0x1f9840a85d5af5bf1d1762f925bdaddc4201f984.png\"},\"token_1\":{\"contract_decimals\":18,\"contract_name\":\"Wrapped Ether\",\"contract_ticker_symbol\":\"WETH\",\"contract_address\":\"0xc02aaa39b223fe8d0a0e5c4f27ead9083c756cc2\",\"supports_erc\":null,\"logo_url\":\"https://logos.covalenthq.com/tokens/0xc02aaa39b223fe8d0a0e5c4f27ead9083c756cc2.png\"},\"token_0_quote_rate\":6.2092757,\"token_1_quote_rate\":1569.7295},{\"block_signed_at\":\"2023-03-05T01:05:23Z\",\"tx_hash\":\"0x8c2c520f69ca7b8578447727cedd9bebae6f1894350c359e29e0a96668373a86\",\"act\":\"SWAP\",\"address\":\"0xdafd66636e2561b0284edde37e42d192f2844d40\",\"amount_0\":null,\"amount_1\":null,\"amount_0_in\":\"0\",\"amount_1_in\":\"109226906731102962\",\"amount_0_out\":\"27694816910456669234\",\"amount_1_out\":\"0\",\"to_address\":\"0xe789c5566b53546d46a0af48a4bd3f062d1fefd1\",\"from_address\":null,\"sender_address\":\"0x1111111254eeb25477b68fb85ed929f73a960582\",\"total_quote\":171.35997,\"quote_currency\":\"USD\",\"token_0\":{\"contract_decimals\":18,\"contract_name\":\"Uniswap\",\"contract_ticker_symbol\":\"UNI\",\"contract_address\":\"0x1f9840a85d5af5bf1d1762f925bdaddc4201f984\",\"supports_erc\":null,\"logo_url\":\"https://logos.covalenthq.com/tokens/0x1f9840a85d5af5bf1d1762f925bdaddc4201f984.png\"},\"token_1\":{\"contract_decimals\":18,\"contract_name\":\"Wrapped Ether\",\"contract_ticker_symbol\":\"WETH\",\"contract_address\":\"0xc02aaa39b223fe8d0a0e5c4f27ead9083c756cc2\",\"supports_erc\":null,\"logo_url\":\"https://logos.covalenthq.com/tokens/0xc02aaa39b223fe8d0a0e5c4f27ead9083c756cc2.png\"},\"token_0_quote_rate\":6.1659517,\"token_1_quote_rate\":1568.8439},{\"block_signed_at\":\"2023-03-05T04:23:11Z\",\"tx_hash\":\"0xf8bcef01aea3b5d3ca4cb2bd9c0ebe1c6825d636f17e5e7f5e828cac4a05f550\",\"act\":\"SWAP\",\"address\":\"0xdafd66636e2561b0284edde37e42d192f2844d40\",\"amount_0\":null,\"amount_1\":null,\"amount_0_in\":\"0\",\"amount_1_in\":\"356101978439088527\",\"amount_0_out\":\"89724713937232141242\",\"amount_1_out\":\"0\",\"to_address\":\"0xe8bf7d7358a96fa870d3945bb37bfcc91a9041cc\",\"from_address\":null,\"sender_address\":\"0x4870525eae23fceb31df613d179ef6275e1b93a9\",\"total_quote\":558.6684,\"quote_currency\":\"USD\",\"token_0\":{\"contract_decimals\":18,\"contract_name\":\"Uniswap\",\"contract_ticker_symbol\":\"UNI\",\"contract_address\":\"0x1f9840a85d5af5bf1d1762f925bdaddc4201f984\",\"supports_erc\":null,\"logo_url\":\"https://logos.covalenthq.com/tokens/0x1f9840a85d5af5bf1d1762f925bdaddc4201f984.png\"},\"token_1\":{\"contract_decimals\":18,\"contract_name\":\"Wrapped Ether\",\"contract_ticker_symbol\":\"WETH\",\"contract_address\":\"0xc02aaa39b223fe8d0a0e5c4f27ead9083c756cc2\",\"supports_erc\":null,\"logo_url\":\"https://logos.covalenthq.com/tokens/0xc02aaa39b223fe8d0a0e5c4f27ead9083c756cc2.png\"},\"token_0_quote_rate\":6.1659517,\"token_1_quote_rate\":1568.8439}],\"pagination\":{\"has_more\":false,\"page_number\":0,\"page_size\":1000,\"total_count\":null}},\"error\":false,\"error_message\":null,\"error_code\":null}\n"
     ]
    }
   ],
   "source": [
    "url = f\"https://api.covalenthq.com/v1/{chainName}/xy=k/{dexName}/tokens/address/{tokenAddress1}/transactions/\"\n",
    "print(url)\n",
    "\n",
    "headers = {\n",
    "    \"Content-Type\": \"application/json\",\n",
    "}\n",
    "# TODO: Thomas says put params in header to make them work\n",
    "\n",
    "params = {'page-size': '1000', 'page-number': '0'}\n",
    "\n",
    "r = requests.get(url, params=params, headers=headers, auth=auth)\n",
    "\n",
    "print(r.text)\n"
   ]
  },
  {
   "cell_type": "code",
   "execution_count": 5,
   "id": "ab604bad-209c-4b41-98e6-807173714fe0",
   "metadata": {},
   "outputs": [],
   "source": [
    "# TODO: ^ covalent thinks has_more=false, idk why"
   ]
  },
  {
   "cell_type": "code",
   "execution_count": 6,
   "id": "3998ee9e-9acb-4285-bb46-bea4d789f0c9",
   "metadata": {},
   "outputs": [],
   "source": [
    "response = json.loads(r.text)"
   ]
  },
  {
   "cell_type": "code",
   "execution_count": 7,
   "id": "0d3ce116-5e61-4696-8dc9-9cde13d0e960",
   "metadata": {},
   "outputs": [],
   "source": [
    "def getAddress(txid: str) -> str:\n",
    "    url = f\"https://api.covalenthq.com/v1/{chainName}/transaction_v2/{txid}/\"\n",
    "    response = requests.get(url, headers=headers, auth=auth)\n",
    "    response = json.loads(response.text)\n",
    "    return response['data']['items'][0]['from_address']"
   ]
  },
  {
   "cell_type": "code",
   "execution_count": 8,
   "id": "2e3fcf30-81f0-4fb8-8e0d-7114be5307e7",
   "metadata": {},
   "outputs": [
    {
     "name": "stdout",
     "output_type": "stream",
     "text": [
      "0x653607eb7a27ba76b4d2db3fcfc19e208ac26eeb0705e3a36f8569406acb75ec 0x48a61d9870823a392be32bfe207e0803a3c3fffc\n",
      "0x4df85cfa34f6cb6a825ccfda330445a74e3f995f0427b6fd784785443319c5a8 0xc6c7565644ea1893ad29182f7b6961aab7edfed0\n",
      "0x8b16d076cc682b19a031c6ba147969ac17be957092a3d74fbc3e5b687d3ff8bd 0x0000e0c70000ca6bc5006838e7cc3e7c8fd23d00\n",
      "0x101ea53b01b054b258efa19a214ea548e2c777cd2636693f189e2fbef7e621b9 0x76f36d497b51e48a288f03b4c1d7461e92247d5e\n",
      "0x0993659b72fc6db25f508b2d545c9c79ebbc869059cf606fad8b252ec2e01982 0xad67d3a4fe6040ccb8ae703a443202ec6b9e4a0f\n",
      "0x9a029a0beeb0dc659ad76c5d3651720357479f3a8de014dcedf89d11d310d103 0x8a79af7f0aaa20685bcfab67d7a49ca52427bef8\n",
      "0x0b9e9de917425710aef5c8befa816c5815816f7762e4b4ec5924cdf93b30aae1 0xdc58f74ea9338c8eb50ca473cc7afd05d2de487e\n",
      "0xacc4b2475551998d254eed112f33895698610934e13cecf241ed34d8221d4bd1 0xdc58f74ea9338c8eb50ca473cc7afd05d2de487e\n",
      "0x5cdb5b6f41b5030107e5a735b606fb7423b2d008088597866c3a058852964184 0xfd32315386252b15fa96f074e98cd5ef799d1fcc\n",
      "0xb5a0ac10473521cb283b022e4495e373c5e4af0209a0f0295875775af4060b32 0x8b329f24de3bfeaf578590bc778fb1e059f77689\n",
      "0xf98f86db519a2941177a3600329117624ebee09b986a2df7a8f6557d7ecc8399 0x8f3bf7bca1b77720e8070639fc9a7ddfb6f4fda9\n",
      "0x8b0972225bc46b00dbc5883e4cb2c37f5e87eb239a472c809fecf5753ff581f8 0x65cd70b078a28568e372103c3ebb2a163e18f7f8\n",
      "0xb3719a489519eed4d9398aa98e9ab813daf5f3c7aa173313968196403883d9c8 0x195d21ac76376242b84bad9ce954a886c3f54c57\n",
      "0x7fda8b6eca6dd96c26cad69611ada654ba0656e6320d01bee07b377d591ecf5a 0x6a5e6731162394915a1f5244db919f1ec4fa1b42\n",
      "0xb060469e6c7cb1f0007e5bb87ecf5190f1107f466dd315b74c621b34cac7e72a 0x00d2f4eb459bd4f7b175fd0cec578229bfa3bde7\n",
      "0x5d84e197ca3e7e5e62cd31ed1bb5d312d62bfcc89f30ea045fe94b77067fec88 0xaa90362fd8469efe0ddc38f060f6dc7576eded9c\n",
      "0xe84f252e33e6a4b8b1d731054830d043c879b02c42aeee6648f3304880c76476 0xe2ca3167b89b8cf680d63b06e8aeefc5e4ebe907\n",
      "0x90c81a3f737629aaa80686e56df3ab239e0a62b1da6e3171a8abaf51b5737b1d 0x727da77e0b3a0bdbf30856df052552e6787f4aaa\n",
      "0x8c2c520f69ca7b8578447727cedd9bebae6f1894350c359e29e0a96668373a86 0x9108813f22637385228a1c621c1904bbbc50dc25\n",
      "0xf8bcef01aea3b5d3ca4cb2bd9c0ebe1c6825d636f17e5e7f5e828cac4a05f550 0x76f36d497b51e48a288f03b4c1d7461e92247d5e\n"
     ]
    }
   ],
   "source": [
    "for x in response['data']['items']:\n",
    "    if x['token_1']['contract_address'] == tokenAddress2 \\\n",
    "    and x['act'] == 'SWAP':\n",
    "        txid = x['tx_hash']\n",
    "        # need 1 more api request to go from txid --> from_address because api is bad (doesn't give from_address)\n",
    "        userAddress = getAddress(txid)\n",
    "        print(txid, userAddress)\n",
    "        # TODO: filter out bots, getPnl(userAddress), find the top k"
   ]
  },
  {
   "cell_type": "code",
   "execution_count": null,
   "id": "e1fbca31-9b9a-49ea-81fa-4d9c347dcf6c",
   "metadata": {},
   "outputs": [],
   "source": []
  }
 ],
 "metadata": {
  "kernelspec": {
   "display_name": "Python 3",
   "language": "python",
   "name": "python3"
  },
  "language_info": {
   "codemirror_mode": {
    "name": "ipython",
    "version": 3
   },
   "file_extension": ".py",
   "mimetype": "text/x-python",
   "name": "python",
   "nbconvert_exporter": "python",
   "pygments_lexer": "ipython3",
   "version": "3.8.8"
  }
 },
 "nbformat": 4,
 "nbformat_minor": 5
}
